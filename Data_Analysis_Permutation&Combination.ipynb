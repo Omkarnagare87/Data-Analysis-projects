{
  "nbformat": 4,
  "nbformat_minor": 0,
  "metadata": {
    "colab": {
      "provenance": [],
      "include_colab_link": true
    },
    "kernelspec": {
      "name": "python3",
      "display_name": "Python 3"
    },
    "language_info": {
      "name": "python"
    }
  },
  "cells": [
    {
      "cell_type": "markdown",
      "metadata": {
        "id": "view-in-github",
        "colab_type": "text"
      },
      "source": [
        "<a href=\"https://colab.research.google.com/github/Omkarnagare87/Data-Analysis-projects/blob/main/Data_Analysis_Permutation%26Combination.ipynb\" target=\"_parent\"><img src=\"https://colab.research.google.com/assets/colab-badge.svg\" alt=\"Open In Colab\"/></a>"
      ]
    },
    {
      "cell_type": "markdown",
      "metadata": {
        "id": "P6HcBjRxHdb2"
      },
      "source": [
        "# Probability Permutation & Combination\n"
      ]
    },
    {
      "cell_type": "markdown",
      "metadata": {
        "id": "l_h3JZgMH7ZJ"
      },
      "source": [
        "###Permutation - with Length-2"
      ]
    },
    {
      "cell_type": "code",
      "metadata": {
        "id": "DxkcGAcEHOa6",
        "colab": {
          "base_uri": "https://localhost:8080/"
        },
        "outputId": "1f9a5ded-9d5e-4abd-a8de-d3104819a635"
      },
      "source": [
        "from itertools import permutations\n",
        "count=0\n",
        "data = [1, 2, 3]\n",
        "perm = permutations(data, 2)\n",
        "for i in list(perm):\n",
        "    print (i)\n",
        "    count+=1\n",
        "\n",
        "print(\"Permutation Count: \",count)"
      ],
      "execution_count": 1,
      "outputs": [
        {
          "output_type": "stream",
          "name": "stdout",
          "text": [
            "(1, 2)\n",
            "(1, 3)\n",
            "(2, 1)\n",
            "(2, 3)\n",
            "(3, 1)\n",
            "(3, 2)\n",
            "Permutation Count:  6\n"
          ]
        }
      ]
    },
    {
      "cell_type": "markdown",
      "metadata": {
        "id": "3yv3seI8Jb9-"
      },
      "source": [
        "###Combination - with Length-2"
      ]
    },
    {
      "cell_type": "code",
      "metadata": {
        "id": "opZs6tnTJeTy",
        "colab": {
          "base_uri": "https://localhost:8080/"
        },
        "outputId": "a816bcd6-77c5-406c-dd5d-d000577de4fe"
      },
      "source": [
        "from itertools import combinations\n",
        "count=0\n",
        "data = [1, 2, 3]\n",
        "data2 = [2, 1, 3]\n",
        "perm = combinations(data2, 2)\n",
        "for i in list(perm):\n",
        "    print (i)\n",
        "    count+=1\n",
        "\n",
        "print(\"Combination Count: \",count)"
      ],
      "execution_count": 2,
      "outputs": [
        {
          "output_type": "stream",
          "name": "stdout",
          "text": [
            "(2, 1)\n",
            "(2, 3)\n",
            "(1, 3)\n",
            "Combination Count:  3\n"
          ]
        }
      ]
    },
    {
      "cell_type": "markdown",
      "metadata": {
        "id": "tARmVpRfJ05P"
      },
      "source": [
        "### Combination - with Length-2"
      ]
    },
    {
      "cell_type": "code",
      "metadata": {
        "id": "pII5bxXNJ2Jd"
      },
      "source": [
        "from itertools import combinations_with_replacement as cr\n",
        "count=0\n",
        "data = [1, 2, 3]\n",
        "data2 = [2, 1, 3]\n",
        "perm = cr(data, 2)\n",
        "for i in list(perm):\n",
        "    print (i)\n",
        "    count+=1\n",
        "\n",
        "print(\"Combination with Element Count: \",count)"
      ],
      "execution_count": null,
      "outputs": []
    }
  ]
}